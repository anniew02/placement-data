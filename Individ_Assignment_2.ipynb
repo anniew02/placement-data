# Summary statistics for the entire dataset
summary(data_model)

# HERE WE CHECK IF THE DISTRIBUTON OF EACH COLUMN OF DATA IS APPROPRIATE OR NOT (ANY OUTLIERS ???)

# Histograms of numeric variables to check their distributions in order to make sure assumptions are valid.
# We first select the numeric variables (CGPA, AptitudeTestScore, SSC_Marks, HSC_Marks, Internships, Projects, Workshops.Certifications, SoftSkillsRating)
data_model %>%
  select(CGPA, AptitudeTestScore, SSC_Marks, HSC_Marks, Internships, Projects, Workshops.Certifications, SoftSkillsRating) %>%
  pivot_longer(cols = everything(), names_to = "Variable", values_to = "Value") %>%
  ggplot(aes(x = Value)) +
    geom_histogram(bins = 30, fill = "steelblue", color = "black") +
    facet_wrap(~ Variable, scales = "free") +
    theme_minimal() +
    labs(title = "Histograms of Numeric Variables", x = "Value", y = "Count")

# Boxplots to detect potential outliers in numeric variables (same variables as above).
data_model %>%
  select(CGPA, AptitudeTestScore, SSC_Marks, HSC_Marks, Internships, Projects, Workshops.Certifications, SoftSkillsRating) %>%
  pivot_longer(cols = everything(), names_to = "Variable", values_to = "Value") %>%
  ggplot(aes(x = Variable, y = Value)) +
    geom_boxplot(fill = "orange") +
    theme_minimal() +
    labs(title = "Boxplots of Numeric Variables", x = "Variable", y = "Value")

# Now that thats done, we will look at Bar plots for the categorical variables in the dataset.
data_model %>%
  select(PlacementStatus, ExtracurricularActivities, PlacementTraining) %>%
  pivot_longer(cols = everything(), names_to = "Category", values_to = "Value") %>%
  ggplot(aes(x = Value, fill = Value)) +
    geom_bar() +
    facet_wrap(~ Category, scales = "free") +
    theme_minimal() +
    labs(title = "Bar Plots of Categorical Variables", x = "Category", y = "Count")



