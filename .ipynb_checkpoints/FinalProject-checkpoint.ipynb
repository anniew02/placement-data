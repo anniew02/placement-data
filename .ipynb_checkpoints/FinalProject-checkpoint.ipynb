{
 "cells": [
  {
   "cell_type": "markdown",
   "id": "564594ba-94f6-43b9-8fb3-f2794abef5f6",
   "metadata": {},
   "source": [
    "# STAT 301 Final Report \n",
    "#### group members and date"
   ]
  },
  {
   "cell_type": "code",
   "execution_count": 2,
   "id": "da923cbb-f8af-4206-8937-22237ef624bb",
   "metadata": {},
   "outputs": [],
   "source": [
    "suppressPackageStartupMessages(library(tidyverse))\n",
    "suppressPackageStartupMessages(library(httr))\n",
    "suppressPackageStartupMessages(library(utils))\n",
    "suppressPackageStartupMessages(library(readr))\n",
    "suppressPackageStartupMessages(library(knitr))\n",
    "suppressPackageStartupMessages(library(MASS))\n",
    "suppressPackageStartupMessages(library(car))\n",
    "suppressPackageStartupMessages (library(infer))\n",
    "suppressPackageStartupMessages(library(cowplot))\n",
    "suppressPackageStartupMessages(library(broom))\n",
    "suppressPackageStartupMessages(library(GGally))\n",
    "suppressPackageStartupMessages(library(dplyr))\n",
    "suppressPackageStartupMessages(library(ggplot2))"
   ]
  },
  {
   "cell_type": "markdown",
   "id": "3aa01dcd-6462-4b20-8278-4f8fdcb19131",
   "metadata": {},
   "source": [
    "## Introduction\n",
    "\n",
    "- Relevant background information on the topic. Motivate the question you are about to add.\n",
    "- Formulate one or two questions for investigation and detail the dataset that will be utilized to address these questions, indicating if the primary goal is inference or prediction.\n",
    "- Make sure that the question(s) can be answer with the data available.\n",
    "- Align your question/objectives with the existing literature.\n",
    "- To contextualize your study, include a minimum of two scientific publications (these should be listed in the References section)."
   ]
  },
  {
   "cell_type": "markdown",
   "id": "911ac389-b6f4-47eb-9b3f-2e57e38b1fa0",
   "metadata": {},
   "source": [
    "## Methods and Results"
   ]
  },
  {
   "cell_type": "markdown",
   "id": "b5346c7a-31df-4bdc-8ff7-57e0dd1622e5",
   "metadata": {},
   "source": [
    "### Data\n",
    "\n",
    "- Read the data into R using reproducible code (i.e., from an open source and not a local directory in your server or computer)\n",
    "- Include a citation of its source\n",
    "- Include any information you have about data collection (e.g., observational vs experimental)\n",
    "- Describe the variables as done in assignment 1\n",
    "- If (absolutely) needed, indicate which variables will be pre-selected (or dropped) and provide a clear justification of your selection. Unless needed, you should use data-driven methods to select variables."
   ]
  },
  {
   "cell_type": "markdown",
   "id": "a256ab05-6473-43b7-8c95-d4daa4182b09",
   "metadata": {},
   "source": [
    "### Exploratory Data Analysis (EDA)\n",
    "\n",
    "- Clean and wrangle your data into a tidy format.\n",
    "- Include 2 effective and creative visualizations \n",
    "- Explore the association of some potential explanatory variables with the response (use colours, point types, point size and/or faceting to include more variables)\n",
    "- Highlight potential problems (e.g., multicollinearity or outliers)\n",
    "- Transform some variables if needed and include a clear explanation (e.g. log-transformation may be useful when outliers are present)\n",
    "- Plot the relevant raw data, tailoring your plot to address your question.\n",
    "- Make sure to explore the association of the explanatory variables with the response.\n",
    "- Any summary tables that are relevant to your analysis (e.g., summarize number of observation in groups, indicate if NAs exist)."
   ]
  },
  {
   "cell_type": "code",
   "execution_count": 3,
   "id": "5cac13ff-e802-4ea3-963a-260eb9fbc393",
   "metadata": {},
   "outputs": [
    {
     "data": {
      "text/html": [
       "<table class=\"dataframe\">\n",
       "<caption>A data.frame: 5 × 12</caption>\n",
       "<thead>\n",
       "\t<tr><th></th><th scope=col>StudentID</th><th scope=col>CGPA</th><th scope=col>Internships</th><th scope=col>Projects</th><th scope=col>Workshops.Certifications</th><th scope=col>AptitudeTestScore</th><th scope=col>SoftSkillsRating</th><th scope=col>ExtracurricularActivities</th><th scope=col>PlacementTraining</th><th scope=col>SSC_Marks</th><th scope=col>HSC_Marks</th><th scope=col>PlacementStatus</th></tr>\n",
       "\t<tr><th></th><th scope=col>&lt;int&gt;</th><th scope=col>&lt;dbl&gt;</th><th scope=col>&lt;int&gt;</th><th scope=col>&lt;int&gt;</th><th scope=col>&lt;int&gt;</th><th scope=col>&lt;int&gt;</th><th scope=col>&lt;dbl&gt;</th><th scope=col>&lt;chr&gt;</th><th scope=col>&lt;chr&gt;</th><th scope=col>&lt;int&gt;</th><th scope=col>&lt;int&gt;</th><th scope=col>&lt;chr&gt;</th></tr>\n",
       "</thead>\n",
       "<tbody>\n",
       "\t<tr><th scope=row>1</th><td>1</td><td>7.5</td><td>1</td><td>1</td><td>1</td><td>65</td><td>4.4</td><td>No </td><td>No </td><td>61</td><td>79</td><td>NotPlaced</td></tr>\n",
       "\t<tr><th scope=row>2</th><td>2</td><td>8.9</td><td>0</td><td>3</td><td>2</td><td>90</td><td>4.0</td><td>Yes</td><td>Yes</td><td>78</td><td>82</td><td>Placed   </td></tr>\n",
       "\t<tr><th scope=row>3</th><td>3</td><td>7.3</td><td>1</td><td>2</td><td>2</td><td>82</td><td>4.8</td><td>Yes</td><td>No </td><td>79</td><td>80</td><td>NotPlaced</td></tr>\n",
       "\t<tr><th scope=row>4</th><td>4</td><td>7.5</td><td>1</td><td>1</td><td>2</td><td>85</td><td>4.4</td><td>Yes</td><td>Yes</td><td>81</td><td>80</td><td>Placed   </td></tr>\n",
       "\t<tr><th scope=row>5</th><td>5</td><td>8.3</td><td>1</td><td>2</td><td>2</td><td>86</td><td>4.5</td><td>Yes</td><td>Yes</td><td>74</td><td>88</td><td>Placed   </td></tr>\n",
       "</tbody>\n",
       "</table>\n"
      ],
      "text/latex": [
       "A data.frame: 5 × 12\n",
       "\\begin{tabular}{r|llllllllllll}\n",
       "  & StudentID & CGPA & Internships & Projects & Workshops.Certifications & AptitudeTestScore & SoftSkillsRating & ExtracurricularActivities & PlacementTraining & SSC\\_Marks & HSC\\_Marks & PlacementStatus\\\\\n",
       "  & <int> & <dbl> & <int> & <int> & <int> & <int> & <dbl> & <chr> & <chr> & <int> & <int> & <chr>\\\\\n",
       "\\hline\n",
       "\t1 & 1 & 7.5 & 1 & 1 & 1 & 65 & 4.4 & No  & No  & 61 & 79 & NotPlaced\\\\\n",
       "\t2 & 2 & 8.9 & 0 & 3 & 2 & 90 & 4.0 & Yes & Yes & 78 & 82 & Placed   \\\\\n",
       "\t3 & 3 & 7.3 & 1 & 2 & 2 & 82 & 4.8 & Yes & No  & 79 & 80 & NotPlaced\\\\\n",
       "\t4 & 4 & 7.5 & 1 & 1 & 2 & 85 & 4.4 & Yes & Yes & 81 & 80 & Placed   \\\\\n",
       "\t5 & 5 & 8.3 & 1 & 2 & 2 & 86 & 4.5 & Yes & Yes & 74 & 88 & Placed   \\\\\n",
       "\\end{tabular}\n"
      ],
      "text/markdown": [
       "\n",
       "A data.frame: 5 × 12\n",
       "\n",
       "| <!--/--> | StudentID &lt;int&gt; | CGPA &lt;dbl&gt; | Internships &lt;int&gt; | Projects &lt;int&gt; | Workshops.Certifications &lt;int&gt; | AptitudeTestScore &lt;int&gt; | SoftSkillsRating &lt;dbl&gt; | ExtracurricularActivities &lt;chr&gt; | PlacementTraining &lt;chr&gt; | SSC_Marks &lt;int&gt; | HSC_Marks &lt;int&gt; | PlacementStatus &lt;chr&gt; |\n",
       "|---|---|---|---|---|---|---|---|---|---|---|---|---|\n",
       "| 1 | 1 | 7.5 | 1 | 1 | 1 | 65 | 4.4 | No  | No  | 61 | 79 | NotPlaced |\n",
       "| 2 | 2 | 8.9 | 0 | 3 | 2 | 90 | 4.0 | Yes | Yes | 78 | 82 | Placed    |\n",
       "| 3 | 3 | 7.3 | 1 | 2 | 2 | 82 | 4.8 | Yes | No  | 79 | 80 | NotPlaced |\n",
       "| 4 | 4 | 7.5 | 1 | 1 | 2 | 85 | 4.4 | Yes | Yes | 81 | 80 | Placed    |\n",
       "| 5 | 5 | 8.3 | 1 | 2 | 2 | 86 | 4.5 | Yes | Yes | 74 | 88 | Placed    |\n",
       "\n"
      ],
      "text/plain": [
       "  StudentID CGPA Internships Projects Workshops.Certifications\n",
       "1 1         7.5  1           1        1                       \n",
       "2 2         8.9  0           3        2                       \n",
       "3 3         7.3  1           2        2                       \n",
       "4 4         7.5  1           1        2                       \n",
       "5 5         8.3  1           2        2                       \n",
       "  AptitudeTestScore SoftSkillsRating ExtracurricularActivities\n",
       "1 65                4.4              No                       \n",
       "2 90                4.0              Yes                      \n",
       "3 82                4.8              Yes                      \n",
       "4 85                4.4              Yes                      \n",
       "5 86                4.5              Yes                      \n",
       "  PlacementTraining SSC_Marks HSC_Marks PlacementStatus\n",
       "1 No                61        79        NotPlaced      \n",
       "2 Yes               78        82        Placed         \n",
       "3 No                79        80        NotPlaced      \n",
       "4 Yes               81        80        Placed         \n",
       "5 Yes               74        88        Placed         "
      ]
     },
     "metadata": {},
     "output_type": "display_data"
    },
    {
     "data": {
      "text/html": [
       "FALSE"
      ],
      "text/latex": [
       "FALSE"
      ],
      "text/markdown": [
       "FALSE"
      ],
      "text/plain": [
       "[1] FALSE"
      ]
     },
     "metadata": {},
     "output_type": "display_data"
    }
   ],
   "source": [
    "# load data\n",
    "url <- \"https://raw.githubusercontent.com/anniew02/stat301-final-project/main/placementdata.csv\" \n",
    "raw_data <- read.csv(url)\n",
    "head(raw_data, 5)\n",
    "\n",
    "# check for null values in dataset (there are none)\n",
    "anyNA(raw_data)"
   ]
  },
  {
   "cell_type": "code",
   "execution_count": 4,
   "id": "80ad1610-144c-482d-bbac-6a1143de9aaa",
   "metadata": {},
   "outputs": [
    {
     "data": {
      "text/html": [
       "<table class=\"dataframe\">\n",
       "<caption>A data.frame: 5 × 11</caption>\n",
       "<thead>\n",
       "\t<tr><th></th><th scope=col>CGPA</th><th scope=col>Internships</th><th scope=col>Projects</th><th scope=col>WorkshopsCertifications</th><th scope=col>AptitudeTestScore</th><th scope=col>SoftSkillsRating</th><th scope=col>ExtracurricularActivities</th><th scope=col>PlacementTraining</th><th scope=col>SSC_Marks</th><th scope=col>HSC_Marks</th><th scope=col>PlacementStatus</th></tr>\n",
       "\t<tr><th></th><th scope=col>&lt;dbl&gt;</th><th scope=col>&lt;int&gt;</th><th scope=col>&lt;int&gt;</th><th scope=col>&lt;int&gt;</th><th scope=col>&lt;int&gt;</th><th scope=col>&lt;dbl&gt;</th><th scope=col>&lt;fct&gt;</th><th scope=col>&lt;fct&gt;</th><th scope=col>&lt;int&gt;</th><th scope=col>&lt;int&gt;</th><th scope=col>&lt;fct&gt;</th></tr>\n",
       "</thead>\n",
       "<tbody>\n",
       "\t<tr><th scope=row>1</th><td>7.5</td><td>1</td><td>1</td><td>1</td><td>65</td><td>4.4</td><td>No </td><td>No </td><td>61</td><td>79</td><td>NotPlaced</td></tr>\n",
       "\t<tr><th scope=row>2</th><td>8.9</td><td>0</td><td>3</td><td>2</td><td>90</td><td>4.0</td><td>Yes</td><td>Yes</td><td>78</td><td>82</td><td>Placed   </td></tr>\n",
       "\t<tr><th scope=row>3</th><td>7.3</td><td>1</td><td>2</td><td>2</td><td>82</td><td>4.8</td><td>Yes</td><td>No </td><td>79</td><td>80</td><td>NotPlaced</td></tr>\n",
       "\t<tr><th scope=row>4</th><td>7.5</td><td>1</td><td>1</td><td>2</td><td>85</td><td>4.4</td><td>Yes</td><td>Yes</td><td>81</td><td>80</td><td>Placed   </td></tr>\n",
       "\t<tr><th scope=row>5</th><td>8.3</td><td>1</td><td>2</td><td>2</td><td>86</td><td>4.5</td><td>Yes</td><td>Yes</td><td>74</td><td>88</td><td>Placed   </td></tr>\n",
       "</tbody>\n",
       "</table>\n"
      ],
      "text/latex": [
       "A data.frame: 5 × 11\n",
       "\\begin{tabular}{r|lllllllllll}\n",
       "  & CGPA & Internships & Projects & WorkshopsCertifications & AptitudeTestScore & SoftSkillsRating & ExtracurricularActivities & PlacementTraining & SSC\\_Marks & HSC\\_Marks & PlacementStatus\\\\\n",
       "  & <dbl> & <int> & <int> & <int> & <int> & <dbl> & <fct> & <fct> & <int> & <int> & <fct>\\\\\n",
       "\\hline\n",
       "\t1 & 7.5 & 1 & 1 & 1 & 65 & 4.4 & No  & No  & 61 & 79 & NotPlaced\\\\\n",
       "\t2 & 8.9 & 0 & 3 & 2 & 90 & 4.0 & Yes & Yes & 78 & 82 & Placed   \\\\\n",
       "\t3 & 7.3 & 1 & 2 & 2 & 82 & 4.8 & Yes & No  & 79 & 80 & NotPlaced\\\\\n",
       "\t4 & 7.5 & 1 & 1 & 2 & 85 & 4.4 & Yes & Yes & 81 & 80 & Placed   \\\\\n",
       "\t5 & 8.3 & 1 & 2 & 2 & 86 & 4.5 & Yes & Yes & 74 & 88 & Placed   \\\\\n",
       "\\end{tabular}\n"
      ],
      "text/markdown": [
       "\n",
       "A data.frame: 5 × 11\n",
       "\n",
       "| <!--/--> | CGPA &lt;dbl&gt; | Internships &lt;int&gt; | Projects &lt;int&gt; | WorkshopsCertifications &lt;int&gt; | AptitudeTestScore &lt;int&gt; | SoftSkillsRating &lt;dbl&gt; | ExtracurricularActivities &lt;fct&gt; | PlacementTraining &lt;fct&gt; | SSC_Marks &lt;int&gt; | HSC_Marks &lt;int&gt; | PlacementStatus &lt;fct&gt; |\n",
       "|---|---|---|---|---|---|---|---|---|---|---|---|\n",
       "| 1 | 7.5 | 1 | 1 | 1 | 65 | 4.4 | No  | No  | 61 | 79 | NotPlaced |\n",
       "| 2 | 8.9 | 0 | 3 | 2 | 90 | 4.0 | Yes | Yes | 78 | 82 | Placed    |\n",
       "| 3 | 7.3 | 1 | 2 | 2 | 82 | 4.8 | Yes | No  | 79 | 80 | NotPlaced |\n",
       "| 4 | 7.5 | 1 | 1 | 2 | 85 | 4.4 | Yes | Yes | 81 | 80 | Placed    |\n",
       "| 5 | 8.3 | 1 | 2 | 2 | 86 | 4.5 | Yes | Yes | 74 | 88 | Placed    |\n",
       "\n"
      ],
      "text/plain": [
       "  CGPA Internships Projects WorkshopsCertifications AptitudeTestScore\n",
       "1 7.5  1           1        1                       65               \n",
       "2 8.9  0           3        2                       90               \n",
       "3 7.3  1           2        2                       82               \n",
       "4 7.5  1           1        2                       85               \n",
       "5 8.3  1           2        2                       86               \n",
       "  SoftSkillsRating ExtracurricularActivities PlacementTraining SSC_Marks\n",
       "1 4.4              No                        No                61       \n",
       "2 4.0              Yes                       Yes               78       \n",
       "3 4.8              Yes                       No                79       \n",
       "4 4.4              Yes                       Yes               81       \n",
       "5 4.5              Yes                       Yes               74       \n",
       "  HSC_Marks PlacementStatus\n",
       "1 79        NotPlaced      \n",
       "2 82        Placed         \n",
       "3 80        NotPlaced      \n",
       "4 80        Placed         \n",
       "5 88        Placed         "
      ]
     },
     "metadata": {},
     "output_type": "display_data"
    }
   ],
   "source": [
    "data <- raw_data %>% \n",
    "    dplyr::select(-StudentID) %>%\n",
    "    mutate(across(c(PlacementStatus, ExtracurricularActivities, PlacementTraining), as.factor)) %>%\n",
    "    rename(\"WorkshopsCertifications\" = \"Workshops.Certifications\")\n",
    "head(data, 5)"
   ]
  },
  {
   "cell_type": "markdown",
   "id": "3fc49c9f-c128-4da1-9949-c5d144c4e5c1",
   "metadata": {
    "jp-MarkdownHeadingCollapsed": true
   },
   "source": [
    "### Methods: Plan\n",
    "\n",
    "- Describe in written English the methods you used to perform your analysis from beginning to end, and narrate the code that does the analysis.\n",
    "- Provide a detailed justification of the method(s) used. The analysis must be based primarily on methods learned in the class (other method can be used for comparison).\n",
    "- Make sure that the analysis responded the question posed and that the proposed method is appropriate for the characteristics of the data.\n",
    "- If variable selection methods are used, justify the method used and explain what data will be used.\n",
    "- If various models will be compared explain how you will select a final one.\n",
    "- If included, describe the “Feature Selection” process and how and why you choose the covariates of your final model.\n",
    "- Make sure to interpret/explain the results you obtain. \n",
    "- If inference is the aim of your project, a detailed interpretation of your fitted model is required, as well as a discussion of relevant quantities (e.g., which coefficient(s) is(are) statistically significant? interpretation of significant coefficients, How does the model fit the data)?\n",
    "- A careful model assessment must be conducted.\n",
    "- Include no more than 3 visualizations and/or tables to support your points. Ensure your tables and/or figures are labelled with a figure/table number and readable fonts."
   ]
  },
  {
   "cell_type": "markdown",
   "id": "3309299c-33eb-4bc7-bc51-8c120b897a04",
   "metadata": {},
   "source": [
    "## Discussion\n",
    "\n",
    "- Interpret the results you obtained in the previous section with respect to the main question/goal of your project.\n",
    "- Summarize what you found and the implications/impact of your findings.\n",
    "- If relevant, discuss whether your results were what you expected to find.\n",
    "- Discuss how your model could be improved;\n",
    "- Discuss future questions/research this study could lead to."
   ]
  },
  {
   "cell_type": "markdown",
   "id": "b3fa0f23-e961-4dd2-ba25-2150effef185",
   "metadata": {},
   "source": [
    "## References\n",
    "\n",
    "- At least two citations of literature relevant to the project.\n",
    "- The citation format is your choice – just be consistent.\n",
    "- Make sure to cite the source of your data as well."
   ]
  }
 ],
 "metadata": {
  "kernelspec": {
   "display_name": "R",
   "language": "R",
   "name": "ir"
  },
  "language_info": {
   "codemirror_mode": "r",
   "file_extension": ".r",
   "mimetype": "text/x-r-source",
   "name": "R",
   "pygments_lexer": "r",
   "version": "4.3.3"
  }
 },
 "nbformat": 4,
 "nbformat_minor": 5
}
