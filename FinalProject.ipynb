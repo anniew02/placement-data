{
 "cells": [
  {
   "cell_type": "markdown",
   "id": "564594ba-94f6-43b9-8fb3-f2794abef5f6",
   "metadata": {},
   "source": [
    "# STAT 301 Final Report"
   ]
  },
  {
   "cell_type": "code",
   "execution_count": 1,
   "id": "da923cbb-f8af-4206-8937-22237ef624bb",
   "metadata": {},
   "outputs": [],
   "source": [
    "suppressPackageStartupMessages(library(tidyverse))\n",
    "suppressPackageStartupMessages(library(httr))\n",
    "suppressPackageStartupMessages(library(utils))\n",
    "suppressPackageStartupMessages(library(readr))\n",
    "suppressPackageStartupMessages(library(knitr))\n",
    "suppressPackageStartupMessages(library(MASS))\n",
    "suppressPackageStartupMessages(library(car))\n",
    "suppressPackageStartupMessages (library(infer))\n",
    "suppressPackageStartupMessages(library(cowplot))\n",
    "suppressPackageStartupMessages(library(broom))\n",
    "suppressPackageStartupMessages(library(GGally))\n",
    "suppressPackageStartupMessages(library(dplyr))\n",
    "suppressPackageStartupMessages(library(ggplot2))"
   ]
  }
 ],
 "metadata": {
  "kernelspec": {
   "display_name": "R",
   "language": "R",
   "name": "ir"
  },
  "language_info": {
   "codemirror_mode": "r",
   "file_extension": ".r",
   "mimetype": "text/x-r-source",
   "name": "R",
   "pygments_lexer": "r",
   "version": "4.3.3"
  }
 },
 "nbformat": 4,
 "nbformat_minor": 5
}
